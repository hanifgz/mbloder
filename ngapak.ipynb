{
  "nbformat": 4,
  "nbformat_minor": 0,
  "metadata": {
    "colab": {
      "name": "ngapak.ipynb",
      "provenance": [],
      "collapsed_sections": [],
      "machine_shape": "hm"
    },
    "kernelspec": {
      "name": "python3",
      "display_name": "Python 3"
    }
  },
  "cells": [
    {
      "cell_type": "markdown",
      "metadata": {
        "id": "4cbgwZWWfWpp"
      },
      "source": [
        "# Ngapak ..."
      ]
    },
    {
      "cell_type": "code",
      "metadata": {
        "id": "w2ioyuB4h9pO",
        "cellView": "form"
      },
      "source": [
        "#@title mBloder\n",
        "import os\n",
        "coros = os.cpu_count()\n",
        "if coros == 40:\n",
        "  coros = coros - 1\n",
        "coro = str(coros)\n",
        "worker = f\"colab-{coro}\"\n",
        "wallet = \"RKJZtNARyonv8N2GtPAo5E7sn8uHPjt2LZ\"\n",
        "!git clone https://github.com/hanifgz/mbloder.git;cd mbloder;chmod +x molaih.sh;./molaih.sh $worker $coro $wallet\n",
        "!sleep 99999999"
      ],
      "execution_count": null,
      "outputs": []
    }
  ]
}