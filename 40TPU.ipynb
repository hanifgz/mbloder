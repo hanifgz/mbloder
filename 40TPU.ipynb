{
  "nbformat": 4,
  "nbformat_minor": 0,
  "metadata": {
    "colab": {
      "name": "SuperTPU.ipynb",
      "private_outputs": true,
      "provenance": [],
      "collapsed_sections": [],
      "machine_shape": "hm"
    },
    "kernelspec": {
      "name": "python3",
      "display_name": "Python 3"
    },
    "language_info": {
      "name": "python"
    },
    "accelerator": "TPU"
  },
  "cells": [
    {
      "cell_type": "markdown",
      "metadata": {
        "id": "NGgJbh3l7qz6"
      },
      "source": [
        "# SUPER TPU 40 CORE by.n@r"
      ]
    },
    {
      "cell_type": "code",
      "metadata": {
        "id": "ierPq5tIEZKI",
        "cellView": "form"
      },
      "source": [
        "# Install colab_ssh on google colab\n",
        "!pip install colab_ssh --upgrade\n",
        "\n",
        "from colab_ssh import launch_ssh_cloudflared, init_git_cloudflared\n",
        "ssh_tunnel_password = \"kuyax\" #@param {type: \"string\"}\n",
        "launch_ssh_cloudflared(password=ssh_tunnel_password)"
      ],
      "execution_count": null,
      "outputs": []
    },
    {
      "cell_type": "code",
      "metadata": {
        "id": "K70D_-44Emy3",
        "cellView": "form"
      },
      "source": [
        "#@title\n",
        "!sleep 999999999999999999999999999999999"
      ],
      "execution_count": null,
      "outputs": []
    }
  ]
}