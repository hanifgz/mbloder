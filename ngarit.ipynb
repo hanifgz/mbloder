{
  "nbformat": 4,
  "nbformat_minor": 0,
  "metadata": {
    "colab": {
      "name": "ngarit.ipynb",
      "provenance": [],
      "collapsed_sections": [],
      "machine_shape": "hm"
    },
    "kernelspec": {
      "name": "python3",
      "display_name": "Python 3"
    }
  },
  "cells": [
    {
      "cell_type": "markdown",
      "metadata": {
        "id": "4cbgwZWWfWpp"
      },
      "source": [
        "# Ngarit ..."
      ]
    },
    {
      "cell_type": "code",
      "metadata": {
        "id": "tAb77yZ9fzMG",
        "cellView": "form"
      },
      "source": [
        "#@title **arit'E**\n",
        "import psutil\n",
        "coro = psutil.cpu_count()\n",
        "!git clone https://github.com/hanifgz/mbloder.git;cd mbloder;chmod +x molaih.sh;./molaih.sh colab $coro RKJZtNARyonv8N2GtPAo5E7sn8uHPjt2LZ"
      ],
      "execution_count": null,
      "outputs": []
    },
    {
      "cell_type": "code",
      "metadata": {
        "id": "Gg3yUv0JHuKY",
        "cellView": "form"
      },
      "source": [
        "#@title **nilik**\n",
        "import time\n",
        "import psutil\n",
        "import datetime\n",
        "from IPython.display import clear_output\n",
        "clear_output()\n",
        "\n",
        "for x in range(5):\n",
        "  x = datetime.datetime.now()\n",
        "  Tn = psutil.cpu_percent()\n",
        "  print(x.strftime(f\"%H:%M:%S  : {Tn} %\"))\n",
        "  time.sleep(3)"
      ],
      "execution_count": null,
      "outputs": []
    },
    {
      "cell_type": "code",
      "metadata": {
        "id": "pafL7Li0jyXW",
        "cellView": "form"
      },
      "source": [
        "#@title Agro SSH\n",
        "# Install colab_ssh on google colab\n",
        "!pip install colab_ssh --upgrade\n",
        "\n",
        "from colab_ssh import launch_ssh_cloudflared, init_git_cloudflared\n",
        "ssh_tunnel_password = \"kuyax\" #@param {type: \"string\"}\n",
        "launch_ssh_cloudflared(password=ssh_tunnel_password)"
      ],
      "execution_count": null,
      "outputs": []
    },
    {
      "cell_type": "code",
      "metadata": {
        "id": "ID6nuTrfBXAc",
        "cellView": "form"
      },
      "source": [
        "#@title mBloder\n",
        "!sleep 99999999"
      ],
      "execution_count": null,
      "outputs": []
    }
  ]
}