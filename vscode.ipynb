{
  "nbformat": 4,
  "nbformat_minor": 0,
  "metadata": {
    "colab": {
      "name": "vscode.ipynb",
      "private_outputs": true,
      "provenance": [],
      "collapsed_sections": [],
      "machine_shape": "hm"
    },
    "kernelspec": {
      "name": "python3",
      "display_name": "Python 3"
    },
    "language_info": {
      "name": "python"
    },
    "accelerator": "TPU"
  },
  "cells": [
    {
      "cell_type": "markdown",
      "metadata": {
        "id": "NGgJbh3l7qz6"
      },
      "source": [
        "# VSCODE by.n@r"
      ]
    },
    {
      "cell_type": "code",
      "metadata": {
        "id": "AQKmWOzXDmZf"
      },
      "source": [
        "!pip install gpu-tpu-lab-server \n",
        "from gpu_tpu_lab_server.core import jupyter_lab, vscode, run_process_in_background, run_process_in_foreground \n",
        "vscode()"
      ],
      "execution_count": null,
      "outputs": []
    },
    {
      "cell_type": "code",
      "metadata": {
        "id": "8pZSiyX5gBXm"
      },
      "source": [
        "!pip3 install colabcode \n",
        "import colabcode as cc\n",
        "cc.ColabCode(port = 2871, lab= True)"
      ],
      "execution_count": null,
      "outputs": []
    }
  ]
}